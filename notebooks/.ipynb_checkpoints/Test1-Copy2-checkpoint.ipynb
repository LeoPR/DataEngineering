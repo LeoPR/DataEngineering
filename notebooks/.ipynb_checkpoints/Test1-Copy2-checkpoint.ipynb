{
 "cells": [
  {
   "cell_type": "code",
   "execution_count": 1,
   "id": "2bfeb808-2ea0-4267-9be9-e4a2aa53dfdf",
   "metadata": {},
   "outputs": [],
   "source": [
    "import os"
   ]
  },
  {
   "cell_type": "code",
   "execution_count": 2,
   "id": "14f0e2d4-aa10-49ec-b66d-85ccdf4b9bda",
   "metadata": {},
   "outputs": [],
   "source": [
    "import pandas as pd"
   ]
  },
  {
   "cell_type": "code",
   "execution_count": 3,
   "id": "05e8aa0d-2829-49cf-8d43-4288951893f6",
   "metadata": {},
   "outputs": [],
   "source": [
    "from pandasai import SmartDataframe"
   ]
  },
  {
   "cell_type": "code",
   "execution_count": 4,
   "id": "17bc1140-8062-4fc8-8f16-88d20bf49c84",
   "metadata": {},
   "outputs": [],
   "source": [
    "# Sample DataFrame\n",
    "sales_by_country = pd.DataFrame({\n",
    "    \"country\": [\"United States\", \"United Kingdom\", \"France\", \"Germany\", \"Italy\", \"Spain\", \"Canada\", \"Australia\", \"Japan\", \"China\"],\n",
    "    \"sales\": [5000, 3200, 2900, 4100, 2300, 2100, 2500, 2600, 4500, 7000]\n",
    "})"
   ]
  },
  {
   "cell_type": "code",
   "execution_count": 5,
   "id": "113f2034-3f88-4660-8826-f51974f40ec9",
   "metadata": {},
   "outputs": [],
   "source": [
    "# By default, unless you choose a different LLM, it will use BambooLLM.\n",
    "# You can get your free API key signing up at https://pandabi.ai (you can also configure it in your .env file)\n",
    "os.environ[\"PANDASAI_API_KEY\"] = \"$2a$10$lo9YT659UCtO03IhTv2Ma.r627e25346QdLgssCt1hZjqc9l.ekve\""
   ]
  },
  {
   "cell_type": "code",
   "execution_count": 6,
   "id": "8fcac312-564f-496a-a11d-5d54b13b8bed",
   "metadata": {},
   "outputs": [],
   "source": [
    "df = SmartDataframe(sales_by_country)"
   ]
  },
  {
   "cell_type": "code",
   "execution_count": 7,
   "id": "7769a809-1eaf-4824-8c20-44f6311448db",
   "metadata": {},
   "outputs": [
    {
     "data": {
      "text/plain": [
       "'The top 5 countries by sales are: China, United States, Japan, Germany, United Kingdom'"
      ]
     },
     "execution_count": 7,
     "metadata": {},
     "output_type": "execute_result"
    }
   ],
   "source": [
    "df.chat('Which are the top 5 countries by sales?')\n",
    "# Output: China, United States, Japan, Germany, Australia"
   ]
  },
  {
   "cell_type": "code",
   "execution_count": 8,
   "id": "dabe25ce-7641-45ce-9d50-a4e4ce107a06",
   "metadata": {},
   "outputs": [
    {
     "name": "stdout",
     "output_type": "stream",
     "text": [
      "top_countries = dfs[0].nlargest(5, 'sales')['country'].tolist()\n",
      "result = {'type': 'string', 'value': f\"The top 5 countries by sales are: {', '.join(top_countries)}\"}\n"
     ]
    }
   ],
   "source": [
    "print(df.last_code_generated)"
   ]
  },
  {
   "cell_type": "code",
   "execution_count": null,
   "id": "e2c7769d-48ae-4320-9d88-ef1b63cafe66",
   "metadata": {},
   "outputs": [],
   "source": []
  }
 ],
 "metadata": {
  "kernelspec": {
   "display_name": "Python 3 (ipykernel)",
   "language": "python",
   "name": "python3"
  },
  "language_info": {
   "codemirror_mode": {
    "name": "ipython",
    "version": 3
   },
   "file_extension": ".py",
   "mimetype": "text/x-python",
   "name": "python",
   "nbconvert_exporter": "python",
   "pygments_lexer": "ipython3",
   "version": "3.11.6"
  }
 },
 "nbformat": 4,
 "nbformat_minor": 5
}
